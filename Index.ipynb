{
 "cells": [
  {
   "cell_type": "code",
   "execution_count": 1,
   "metadata": {},
   "outputs": [
    {
     "name": "stdout",
     "output_type": "stream",
     "text": [
      "Collecting openpyxl\n",
      "  Downloading openpyxl-3.0.7-py2.py3-none-any.whl (243 kB)\n",
      "\u001b[K     |████████████████████████████████| 243 kB 4.8 MB/s eta 0:00:01\n",
      "\u001b[?25hCollecting et-xmlfile\n",
      "  Downloading et_xmlfile-1.1.0-py3-none-any.whl (4.7 kB)\n",
      "Installing collected packages: et-xmlfile, openpyxl\n",
      "Successfully installed et-xmlfile-1.1.0 openpyxl-3.0.7\n",
      "Note: you may need to restart the kernel to use updated packages.\n"
     ]
    }
   ],
   "source": [
    "pip install openpyxl"
   ]
  },
  {
   "cell_type": "code",
   "execution_count": 6,
   "metadata": {},
   "outputs": [],
   "source": [
    "import pandas as pd\n",
    "import numpy as np\n",
    "import matplotlib.pyplot as plt \n",
    "\n",
    "import warnings\n",
    "warnings.filterwarnings('ignore')\n",
    "\n",
    "\n",
    "df_ampla_raw = pd.read_excel (\"ampla_raw_data.xlsx\",engine='openpyxl',sheet_name='Sheet1')\n",
    "df_powerbi_raw = pd.read_excel('powerbi_raw_data.xlsx',engine='openpyxl',sheet_name='Sheet1')\n",
    "\n",
    "\n",
    "#df_working_hours = df_powerbi_raw[df_powerbi_raw['engine_status']=='On']\n",
    "\n",
    "# clean ampla data \n",
    "\n",
    "df_ampla_1 = df_ampla_raw [['Start Time','End Time','Duration','Equipment Id','Classification','Comments','Cause']]\n",
    "df_ampla_1= df_ampla_1.dropna().reset_index()\n",
    "df_ampla_1['Start Time']= pd.to_datetime(df_ampla_1['Start Time'])\n",
    "df_ampla_1['End Time'] = pd.to_datetime(df_ampla_1['End Time'])\n",
    "df_ampla_1 = df_ampla_1.sort_values(by=['Equipment Id','Start Time'],ascending=[True, True])\n",
    "df_ampla_1 = df_ampla_1.reset_index(drop=True)\n",
    "df_ampla_1['Duration_1']= (df_ampla_1['End Time']-df_ampla_1['Start Time'])\n",
    "df_ampla_1['Duration_in_minutes']= df_ampla_1['Duration_1'].dt.total_seconds()//60\n",
    "df_ampla_1 = df_ampla_1[df_ampla_1['Duration_in_minutes']>1]\n",
    "df_ampla_1['Duplication_within_6_hours']=0\n",
    "\n",
    "# within 6 hours duplication filter for unplanned work \n",
    "df_ampla_1 = df_ampla_1[(df_ampla_1['Classification']=='Unscheduled Downtime (UD)')]\n",
    "df_ampla_1 = df_ampla_1.reset_index(drop=True)\n",
    "\n",
    "\n",
    "for i in range (1,len(df_ampla_1.axes[0])):\n",
    "\n",
    "    if (abs(df_ampla_1['Start Time'][i] - df_ampla_1['Start Time'][i-1])/np.timedelta64(1, 'h')) <6 :\n",
    "        df_ampla_1['Duplication_within_6_hours'][i] = 1\n",
    "           \n",
    "#print(df_ampla_1.head(40))\n",
    "    \n",
    "#slice data set for non duplicates and unplanned work to get breakdown count\n",
    "\n",
    "df_ampla_filtered = df_ampla_1[(df_ampla_1['Duplication_within_6_hours']==0)]\n",
    "df_ampla_filtered['year'] = pd.DatetimeIndex(df_ampla_filtered['Start Time']).year\n",
    "df_ampla_filtered['month'] = pd.DatetimeIndex(df_ampla_filtered['Start Time']).month\n",
    "\n",
    "df_ampla_breakdown_counts = df_ampla_filtered.groupby(['year','month','Equipment Id']).size().reset_index(name='counts')\n",
    "df_ampla_breakdown_counts['Last_four_digits'] = df_ampla_breakdown_counts['Equipment Id'].str[-4:]\n",
    "\n",
    "#print(df_ampla_breakdown_counts.head(40))\n",
    "  \n",
    "#filter powerbi data to get worked hours \n",
    "\n",
    "df_powerbi_ready = df_powerbi_raw[df_powerbi_raw['engine_status'] == 'On']\n",
    "df_powerbi_worked_hours = df_powerbi_ready.groupby(['time - Year','time - Month','equipment_name']).sum().reset_index()\n",
    "df_powerbi_worked_hours['equipment_name'] = df_powerbi_worked_hours['equipment_name'].astype(str)\n",
    "df_powerbi_worked_hours['Last_four_digits'] = df_powerbi_worked_hours['equipment_name'].str[-4:]\n",
    "d = {'January':1, 'February':2, 'March':3, 'April':4,'May':5,'June':6,'July':7,'August':8,'September':9,'October':10,'November':11,\n",
    "    'December':12}\n",
    "\n",
    "df_powerbi_worked_hours['time - Month'] = df_powerbi_worked_hours['time - Month'].map(d)\n",
    "\n",
    "\n",
    "# merge data sets &calc MTBF\n",
    "df_merged = pd.merge(df_ampla_breakdown_counts, df_powerbi_worked_hours, how=\"left\", left_on=['year','month',\"Last_four_digits\"],\n",
    "                     right_on=['time - Year','time - Month','Last_four_digits'])\n",
    "df_merged = df_merged.dropna()\n",
    "df_merged[\"group\"] = df_merged['Equipment Id'].str[0:5]\n",
    "\n",
    "#print(df_merged.head(40))\n",
    "\n",
    "df_mtbf = df_merged.groupby(['year','month','group']).sum().reset_index()\n",
    "df_mtbf['MTBF'] = df_mtbf['Sum of hours']/df_mtbf['counts']\n",
    "\n"
   ]
  },
  {
   "cell_type": "markdown",
   "metadata": {},
   "source": [
    "# Last updated time"
   ]
  },
  {
   "cell_type": "code",
   "execution_count": 7,
   "metadata": {},
   "outputs": [
    {
     "name": "stdout",
     "output_type": "stream",
     "text": [
      "2021-08-26 09:30:16\n"
     ]
    }
   ],
   "source": [
    "print(df_ampla_1['Start Time'].sort_values().iloc[-1])"
   ]
  },
  {
   "cell_type": "code",
   "execution_count": null,
   "metadata": {},
   "outputs": [],
   "source": []
  },
  {
   "cell_type": "code",
   "execution_count": null,
   "metadata": {},
   "outputs": [],
   "source": []
  },
  {
   "cell_type": "markdown",
   "metadata": {},
   "source": [
    "# MTBF trend from Jan-2020 "
   ]
  },
  {
   "cell_type": "code",
   "execution_count": 14,
   "metadata": {},
   "outputs": [
    {
     "data": {
      "application/vnd.jupyter.widget-view+json": {
       "model_id": "0204ebcb23644cae855f83ccaf1a244b",
       "version_major": 2,
       "version_minor": 0
      },
      "text/plain": [
       "interactive(children=(Dropdown(description='Machine type:', index=6, options=('DOZER', 'DRILL', 'EXCAV', 'GRAD…"
      ]
     },
     "metadata": {},
     "output_type": "display_data"
    },
    {
     "data": {
      "text/plain": [
       "<function __main__.plot_func(freq)>"
      ]
     },
     "execution_count": 14,
     "metadata": {},
     "output_type": "execute_result"
    }
   ],
   "source": [
    "from ipywidgets import interact, interactive, fixed, interact_manual\n",
    "import ipywidgets as widgets\n",
    "\n",
    "import matplotlib.pyplot as plt\n",
    "%matplotlib inline\n",
    "\n",
    "import numpy as np\n",
    "\n",
    "options =df_mtbf['group'].astype(\"category\").cat.categories.tolist()\n",
    "def plot_func(freq):\n",
    "    \n",
    "    df_loader_mtbf = df_mtbf[df_mtbf['group']==freq].reset_index(drop=True)\n",
    "    df_loader_mtbf['DATE'] = pd.to_datetime(df_loader_mtbf[['year', 'month']].assign(DAY=28))\n",
    "    \n",
    "\n",
    "    x=df_loader_mtbf['DATE']\n",
    "    y=df_loader_mtbf['MTBF']\n",
    "    \n",
    "    plt.figure(figsize=(12,8), dpi=80)\n",
    "    plt.plot(x, y)\n",
    "    for i,j in zip(x,y):\n",
    "        plt.annotate(int(j),xy=(i,j+1))\n",
    "        \n",
    "    plt.ylabel(\"MTBF(Hours)\")\n",
    "    plt.xlabel('Time')\n",
    "    plt.xticks(x)\n",
    "    plt.title('MTBF trend of '+ freq)\n",
    "    plt.xticks(rotation=90)\n",
    "    plt.ylim(0)\n",
    "    plt.show()\n",
    "    \n",
    "\n",
    "interact(plot_func, freq = widgets.Dropdown(options=options,value=options[6],description='Machine type:',disabled=False))"
   ]
  },
  {
   "cell_type": "markdown",
   "metadata": {},
   "source": [
    "# Monthly MTBF by equipment ID"
   ]
  },
  {
   "cell_type": "code",
   "execution_count": 15,
   "metadata": {},
   "outputs": [
    {
     "data": {
      "application/vnd.jupyter.widget-view+json": {
       "model_id": "0b25ad9d06d7470894adbbac627cdeea",
       "version_major": 2,
       "version_minor": 0
      },
      "text/plain": [
       "interactive(children=(Dropdown(description='Year:', index=1, options=(2020, 2021), value=2021), Dropdown(descr…"
      ]
     },
     "metadata": {},
     "output_type": "display_data"
    },
    {
     "data": {
      "text/plain": [
       "<function __main__.plot_trucks_func(year, month, machine)>"
      ]
     },
     "execution_count": 15,
     "metadata": {},
     "output_type": "execute_result"
    }
   ],
   "source": [
    "year_options = df_merged['year'].unique()\n",
    "machine_options =df_mtbf['group'].astype(\"category\").cat.categories.tolist()\n",
    "\n",
    "def plot_trucks_func(year,month,machine):\n",
    "       \n",
    "    \n",
    "    df_merged['MTBF'] = df_merged['Sum of hours']/df_merged['counts']\n",
    "    df_year = df_merged[df_merged['year']==year]\n",
    "    df_year_month = df_year[df_year['month']==month]\n",
    "    df_trucks = df_year_month[df_year_month['group']==machine]\n",
    "    df_trucks = df_trucks.sort_values(by=['MTBF'])\n",
    "    \n",
    "    if month in df_year['month'].unique():\n",
    "        average_truck_mtbf = df_mtbf.loc[(df_mtbf['year']==year) & (df_mtbf['group']==machine)& (df_mtbf['month']==month)]\n",
    "        average_truck_mtbf = average_truck_mtbf.iloc[0]['MTBF']\n",
    "\n",
    "        plt.figure(figsize=(10, 8), dpi=80)\n",
    "        plt.barh(df_trucks['Equipment Id'],df_trucks['MTBF'])\n",
    "\n",
    "        plt.ylabel(machine)\n",
    "        plt.xlabel('MTBF(Hours)')\n",
    "        plt.xticks(list(plt.xticks()[0]) + [average_truck_mtbf])\n",
    "        plt.axvline(x=average_truck_mtbf , linestyle='--')\n",
    "        plt.title('MTBF of each ' +machine)\n",
    "        plt.show()\n",
    "        \n",
    "    else:\n",
    "        print('INVALID MONTH !!')\n",
    "        \n",
    "\n",
    "interact(plot_trucks_func, year = widgets.Dropdown(options=year_options,value=2021,description='Year:',disabled=False),\n",
    "        month=widgets.Dropdown(options=[1,2,3,4,5,6,7,8,9,10,11,12],value=6,description='Month:',disabled=False),\n",
    "        machine=widgets.Dropdown(options=machine_options,value='TRUCK',description='Machine type:',disabled=False))"
   ]
  },
  {
   "cell_type": "markdown",
   "metadata": {},
   "source": [
    "# Overall MTBF by equipment ID"
   ]
  },
  {
   "cell_type": "code",
   "execution_count": 16,
   "metadata": {},
   "outputs": [
    {
     "data": {
      "application/vnd.jupyter.widget-view+json": {
       "model_id": "ce12126935934574b85f06e84591e506",
       "version_major": 2,
       "version_minor": 0
      },
      "text/plain": [
       "interactive(children=(Dropdown(description='Year:', index=1, options=('2020', '2021', 'All'), value='2021'), D…"
      ]
     },
     "metadata": {},
     "output_type": "display_data"
    },
    {
     "data": {
      "text/plain": [
       "<function __main__.plot_yearly_mtbf_func(year, machine)>"
      ]
     },
     "execution_count": 16,
     "metadata": {},
     "output_type": "execute_result"
    }
   ],
   "source": [
    "import numpy \n",
    "\n",
    "year_options = df_merged['year'].unique()\n",
    "year_options = list(numpy.append(year_options,'All'))\n",
    "machine_options =df_mtbf['group'].astype(\"category\").cat.categories.tolist()\n",
    "\n",
    "def plot_yearly_mtbf_func(year,machine):\n",
    "    \n",
    "    if year== 'All':\n",
    "    \n",
    "        df_merged_1 = df_merged.groupby(['group','Equipment Id']).sum().reset_index()\n",
    "        df_merged_1['MTBF_year'] = df_merged_1['Sum of hours']/df_merged_1['counts']\n",
    "\n",
    "        df_trucks = df_merged_1[df_merged_1['group']==machine]\n",
    "        df_trucks = df_trucks.sort_values(by=['MTBF_year'])\n",
    "\n",
    "        plt.figure(figsize=(10, 8), dpi=80)\n",
    "        plt.barh(df_trucks['Equipment Id'],df_trucks['MTBF_year'])\n",
    "\n",
    "        plt.ylabel(machine)\n",
    "        plt.xlabel('MTBF(Hours)')\n",
    "        plt.xticks(list(plt.xticks()[0]))\n",
    "        plt.title('MTBF of each ' +machine)\n",
    "        plt.show()\n",
    "  \n",
    "    \n",
    "    \n",
    "    \n",
    "    else:\n",
    "    \n",
    "        year = int(year)\n",
    "        df_merged_1 = df_merged.groupby(['year','group','Equipment Id']).sum().reset_index()\n",
    "        df_merged_1['MTBF_year'] = df_merged_1['Sum of hours']/df_merged_1['counts']\n",
    "\n",
    "        df_year = df_merged_1[df_merged_1['year']==year]\n",
    "        df_trucks = df_year[df_year['group']==machine]\n",
    "        df_trucks = df_trucks.sort_values(by=['MTBF_year'])\n",
    "\n",
    "        plt.figure(figsize=(10, 8), dpi=80)\n",
    "        plt.barh(df_trucks['Equipment Id'],df_trucks['MTBF_year'])\n",
    "\n",
    "        plt.ylabel(machine)\n",
    "        plt.xlabel('MTBF(Hours)')\n",
    "        plt.xticks(list(plt.xticks()[0]))\n",
    "        plt.title('MTBF of each ' +machine)\n",
    "        plt.show()\n",
    "\n",
    "        \n",
    "\n",
    "interact(plot_yearly_mtbf_func, year = widgets.Dropdown(options=year_options,value='2021',description='Year:',disabled=False),\n",
    "         machine=widgets.Dropdown(options=machine_options,value='TRUCK',description='Machine type:',disabled=False))"
   ]
  },
  {
   "cell_type": "markdown",
   "metadata": {},
   "source": [
    "# Breakdown count by system"
   ]
  },
  {
   "cell_type": "code",
   "execution_count": 36,
   "metadata": {},
   "outputs": [
    {
     "data": {
      "application/vnd.jupyter.widget-view+json": {
       "model_id": "003e3cc97ae64da0a72b0460c979308e",
       "version_major": 2,
       "version_minor": 0
      },
      "text/plain": [
       "interactive(children=(Dropdown(description='Year:', index=2, options=(2019, 2020, 2021), value=2021), Dropdown…"
      ]
     },
     "metadata": {},
     "output_type": "display_data"
    },
    {
     "data": {
      "text/plain": [
       "<function __main__.plot_systems_func(year, month, machine)>"
      ]
     },
     "execution_count": 36,
     "metadata": {},
     "output_type": "execute_result"
    }
   ],
   "source": [
    "df_ampla_filtered['Equipment group']=df_ampla_filtered['Equipment Id'].str[0:5]\n",
    "df_system = df_ampla_filtered.groupby(['year','month','Equipment group','Cause']).size().reset_index(name='Cause_counts')\n",
    "\n",
    "year_options_systems = df_system['year'].unique()\n",
    "def plot_systems_func(year,month,machine):\n",
    "       \n",
    "    df_year = df_system[df_system['year']==year]\n",
    "    df_year_month = df_year[df_year['month']==month]\n",
    "    df_machine = df_year_month[df_year_month['Equipment group']==machine]\n",
    "    df_machine = df_machine.sort_values(by=['Cause_counts'],ascending=False)\n",
    "      \n",
    "    if month in df_year['month'].unique():\n",
    "\n",
    "        plt.figure(figsize=(10, 8), dpi=80)\n",
    "        plt.bar(df_machine['Cause'],df_machine['Cause_counts'])\n",
    "\n",
    "        plt.ylabel('Fault count')\n",
    "        plt.xlabel('Filure cause')\n",
    "        plt.xticks(rotation=90)\n",
    "        plt.title('Failure causes in month ' +str(month))\n",
    "        plt.show()\n",
    "        \n",
    "    else:\n",
    "        print('INVALID MONTH !!')\n",
    "        \n",
    "\n",
    "interact(plot_systems_func, year = widgets.Dropdown(options=year_options_systems,value=2021,description='Year:',disabled=False),\n",
    "        month=widgets.Dropdown(options=[1,2,3,4,5,6,7,8,9,10,11,12],value=6,description='Month:',disabled=False),\n",
    "         machine=widgets.Dropdown(options=machine_options,value='TRUCK',description='Machine type:',disabled=False)\n",
    "        )"
   ]
  },
  {
   "cell_type": "code",
   "execution_count": null,
   "metadata": {},
   "outputs": [],
   "source": [
    "from IPython.display import HTML\n",
    "\n",
    "HTML('''<script>\n",
    "code_show=true; \n",
    "function code_toggle() {\n",
    " if (code_show){\n",
    " $('div.input').hide();\n",
    " } else {\n",
    " $('div.input').show();\n",
    " }\n",
    " code_show = !code_show\n",
    "} \n",
    "$( document ).ready(code_toggle);\n",
    "</script>\n",
    "<form action=\"javascript:code_toggle()\"><input type=\"submit\" value=\"Click here to toggle on/off the raw code.\"></form>''')"
   ]
  },
  {
   "cell_type": "raw",
   "metadata": {},
   "source": [
    "year_options"
   ]
  },
  {
   "cell_type": "code",
   "execution_count": null,
   "metadata": {},
   "outputs": [],
   "source": []
  }
 ],
 "metadata": {
  "kernelspec": {
   "display_name": "Python 3",
   "language": "python",
   "name": "python3"
  },
  "language_info": {
   "codemirror_mode": {
    "name": "ipython",
    "version": 3
   },
   "file_extension": ".py",
   "mimetype": "text/x-python",
   "name": "python",
   "nbconvert_exporter": "python",
   "pygments_lexer": "ipython3",
   "version": "3.6.13"
  }
 },
 "nbformat": 4,
 "nbformat_minor": 2
}
