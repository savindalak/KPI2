{
 "cells": [
  {
   "cell_type": "code",
   "execution_count": 1,
   "metadata": {},
   "outputs": [
    {
     "name": "stdout",
     "output_type": "stream",
     "text": [
      "Requirement already satisfied: openpyxl in /srv/conda/envs/notebook/lib/python3.7/site-packages (3.0.7)\n",
      "Requirement already satisfied: et-xmlfile in /srv/conda/envs/notebook/lib/python3.7/site-packages (from openpyxl) (1.1.0)\n",
      "Note: you may need to restart the kernel to use updated packages.\n"
     ]
    }
   ],
   "source": [
    "pip install openpyxl"
   ]
  },
  {
   "cell_type": "code",
   "execution_count": 2,
   "metadata": {},
   "outputs": [
    {
     "name": "stderr",
     "output_type": "stream",
     "text": [
      "/srv/conda/envs/notebook/lib/python3.7/site-packages/ipykernel_launcher.py:26: SettingWithCopyWarning: \n",
      "A value is trying to be set on a copy of a slice from a DataFrame\n",
      "\n",
      "See the caveats in the documentation: http://pandas.pydata.org/pandas-docs/stable/user_guide/indexing.html#returning-a-view-versus-a-copy\n",
      "/srv/conda/envs/notebook/lib/python3.7/site-packages/ipykernel_launcher.py:33: SettingWithCopyWarning: \n",
      "A value is trying to be set on a copy of a slice from a DataFrame.\n",
      "Try using .loc[row_indexer,col_indexer] = value instead\n",
      "\n",
      "See the caveats in the documentation: http://pandas.pydata.org/pandas-docs/stable/user_guide/indexing.html#returning-a-view-versus-a-copy\n",
      "/srv/conda/envs/notebook/lib/python3.7/site-packages/ipykernel_launcher.py:34: SettingWithCopyWarning: \n",
      "A value is trying to be set on a copy of a slice from a DataFrame.\n",
      "Try using .loc[row_indexer,col_indexer] = value instead\n",
      "\n",
      "See the caveats in the documentation: http://pandas.pydata.org/pandas-docs/stable/user_guide/indexing.html#returning-a-view-versus-a-copy\n"
     ]
    }
   ],
   "source": [
    "import pandas as pd\n",
    "import numpy as np\n",
    "import matplotlib.pyplot as plt \n",
    "\n",
    "\n",
    "df_ampla_raw = pd.read_excel (\"ampla_raw_data.xlsx\",engine='openpyxl')\n",
    "df_powerbi_raw = pd.read_excel('powerbi_raw_data.xlsx',engine='openpyxl')\n",
    "\n",
    "#df_working_hours = df_powerbi_raw[df_powerbi_raw['engine_status']=='On']\n",
    "\n",
    "# clean ampla data \n",
    "\n",
    "df_ampla_1 = df_ampla_raw [['Start Time','End Time','Duration','Equipment Id','Classification','Comments']]\n",
    "df_ampla_1 = df_ampla_1.sort_values(by=['Equipment Id','Start Time'],ascending=[True, True])\n",
    "df_ampla_1 = df_ampla_1.reset_index(drop=True)\n",
    "df_ampla_1['Duplication_within_6_hours']=0\n",
    "\n",
    "# within 6 hours duplication filter for unplanned work \n",
    "df_ampla_1 = df_ampla_1[(df_ampla_1['Classification']=='Unscheduled Downtime (UD)')]\n",
    "df_ampla_1 = df_ampla_1.reset_index(drop=True)\n",
    "\n",
    "\n",
    "for i in range (1,len(df_ampla_1.axes[0])):\n",
    "\n",
    "    if (abs(df_ampla_1['Start Time'][i] - df_ampla_1['Start Time'][i-1])/np.timedelta64(1, 'h')) <6 :\n",
    "        df_ampla_1['Duplication_within_6_hours'][i] = 1\n",
    "           \n",
    "#print(df_ampla_1.head(40))\n",
    "    \n",
    "#slice data set for non duplicates and unplanned work to get breakdown count\n",
    "\n",
    "df_ampla_filtered = df_ampla_1[(df_ampla_1['Duplication_within_6_hours']==0)]\n",
    "df_ampla_filtered['year'] = pd.DatetimeIndex(df_ampla_filtered['Start Time']).year\n",
    "df_ampla_filtered['month'] = pd.DatetimeIndex(df_ampla_filtered['Start Time']).month\n",
    "\n",
    "df_ampla_breakdown_counts = df_ampla_filtered.groupby(['year','month','Equipment Id']).size().reset_index(name='counts')\n",
    "df_ampla_breakdown_counts['Last_four_digits'] = df_ampla_breakdown_counts['Equipment Id'].str[-4:]\n",
    "\n",
    "#print(df_ampla_breakdown_counts.head(40))\n",
    "  \n",
    "#filter powerbi data to get worked hours \n",
    "\n",
    "df_powerbi_ready = df_powerbi_raw[df_powerbi_raw['engine_status'] == 'On']\n",
    "df_powerbi_worked_hours = df_powerbi_ready.groupby(['time - Year','time - Month','equipment_name']).sum().reset_index()\n",
    "df_powerbi_worked_hours['equipment_name'] = df_powerbi_worked_hours['equipment_name'].astype(str)\n",
    "df_powerbi_worked_hours['Last_four_digits'] = df_powerbi_worked_hours['equipment_name'].str[-4:]\n",
    "d = {'January':1, 'February':2, 'March':3, 'April':4,'May':5,'June':6,'July':7,'August':8,'September':9,'October':10,'November':11,\n",
    "    'December':12}\n",
    "\n",
    "df_powerbi_worked_hours['time - Month'] = df_powerbi_worked_hours['time - Month'].map(d)\n",
    "\n",
    "\n",
    "# merge data sets &calc MTBF\n",
    "df_merged = pd.merge(df_ampla_breakdown_counts, df_powerbi_worked_hours, how=\"left\", left_on=['year','month',\"Last_four_digits\"],\n",
    "                     right_on=['time - Year','time - Month','Last_four_digits'])\n",
    "df_merged = df_merged.dropna()\n",
    "df_merged[\"group\"] = df_merged['Equipment Id'].str[0:5]\n",
    "\n",
    "#print(df_merged.head(40))\n",
    "\n",
    "df_mtbf = df_merged.groupby(['year','month','group']).sum().reset_index()\n",
    "df_mtbf['MTBF'] = df_mtbf['Sum of hours']/df_mtbf['counts']"
   ]
  },
  {
   "cell_type": "markdown",
   "metadata": {},
   "source": [
    "# Trucks MTBF trend"
   ]
  },
  {
   "cell_type": "code",
   "execution_count": 3,
   "metadata": {},
   "outputs": [
    {
     "data": {
      "application/vnd.jupyter.widget-view+json": {
       "model_id": "6e4d6685426e4d079ef02eaae8b8b7da",
       "version_major": 2,
       "version_minor": 0
      },
      "text/plain": [
       "interactive(children=(Dropdown(description='Machine type:', index=6, options=('DOZER', 'DRILL', 'EXCAV', 'GRAD…"
      ]
     },
     "metadata": {},
     "output_type": "display_data"
    },
    {
     "data": {
      "text/plain": [
       "<function __main__.plot_func(freq)>"
      ]
     },
     "execution_count": 3,
     "metadata": {},
     "output_type": "execute_result"
    }
   ],
   "source": [
    "from ipywidgets import interact, interactive, fixed, interact_manual\n",
    "import ipywidgets as widgets\n",
    "\n",
    "import matplotlib.pyplot as plt\n",
    "%matplotlib inline\n",
    "\n",
    "import numpy as np\n",
    "\n",
    "options =df_mtbf['group'].astype(\"category\").cat.categories.tolist()\n",
    "def plot_func(freq):\n",
    "    \n",
    "    df_loader_mtbf = df_mtbf[df_mtbf['group']==freq].reset_index(drop=True)\n",
    "    df_loader_mtbf['DATE'] = pd.to_datetime(df_loader_mtbf[['year', 'month']].assign(DAY=28))\n",
    "    \n",
    "\n",
    "    x=df_loader_mtbf['DATE']\n",
    "    y=df_loader_mtbf['MTBF']\n",
    "    \n",
    "    plt.figure(figsize=(12,8), dpi=80)\n",
    "    plt.plot(x, y)\n",
    "    for i,j in zip(x,y):\n",
    "        plt.annotate(int(j),xy=(i,j+1))\n",
    "        \n",
    "    plt.ylabel(\"MTBF(Hours)\")\n",
    "    plt.xlabel('Time')\n",
    "    plt.xticks(x)\n",
    "    plt.title('MTBF trend of '+ freq)\n",
    "    plt.xticks(rotation=90)\n",
    "    plt.show()\n",
    "    \n",
    "\n",
    "interact(plot_func, freq = widgets.Dropdown(options=options,value=options[6],description='Machine type:',disabled=False))"
   ]
  },
  {
   "cell_type": "markdown",
   "metadata": {},
   "source": [
    "# Excavators MTBF trend "
   ]
  },
  {
   "cell_type": "code",
   "execution_count": 4,
   "metadata": {},
   "outputs": [
    {
     "data": {
      "application/vnd.jupyter.widget-view+json": {
       "model_id": "2aa4d1b467734a309be9b00fd0303076",
       "version_major": 2,
       "version_minor": 0
      },
      "text/plain": [
       "interactive(children=(Dropdown(description='Number:', index=2, options=('DOZER', 'DRILL', 'EXCAV', 'GRADE', 'L…"
      ]
     },
     "metadata": {},
     "output_type": "display_data"
    },
    {
     "data": {
      "text/plain": [
       "<function __main__.plot_func(freq)>"
      ]
     },
     "execution_count": 4,
     "metadata": {},
     "output_type": "execute_result"
    }
   ],
   "source": [
    "interact(plot_func, freq = widgets.Dropdown(options=options,value=options[2],description='Number:',disabled=False))"
   ]
  },
  {
   "cell_type": "markdown",
   "metadata": {},
   "source": [
    "# Loaders MTBF trend "
   ]
  },
  {
   "cell_type": "code",
   "execution_count": 5,
   "metadata": {},
   "outputs": [
    {
     "data": {
      "application/vnd.jupyter.widget-view+json": {
       "model_id": "1cd690daef554ceab773264daa8cb5e1",
       "version_major": 2,
       "version_minor": 0
      },
      "text/plain": [
       "interactive(children=(Dropdown(description='Number:', index=4, options=('DOZER', 'DRILL', 'EXCAV', 'GRADE', 'L…"
      ]
     },
     "metadata": {},
     "output_type": "display_data"
    },
    {
     "data": {
      "text/plain": [
       "<function __main__.plot_func(freq)>"
      ]
     },
     "execution_count": 5,
     "metadata": {},
     "output_type": "execute_result"
    }
   ],
   "source": [
    "interact(plot_func, freq = widgets.Dropdown(options=options,value=options[4],description='Number:',disabled=False))"
   ]
  },
  {
   "cell_type": "markdown",
   "metadata": {},
   "source": [
    "# Individual Truck performance "
   ]
  },
  {
   "cell_type": "code",
   "execution_count": 6,
   "metadata": {},
   "outputs": [
    {
     "data": {
      "application/vnd.jupyter.widget-view+json": {
       "model_id": "d5aca6709e2c4fdf9ae96cac7149782d",
       "version_major": 2,
       "version_minor": 0
      },
      "text/plain": [
       "interactive(children=(Dropdown(description='Year:', index=1, options=(2020, 2021), value=2021), Dropdown(descr…"
      ]
     },
     "metadata": {},
     "output_type": "display_data"
    },
    {
     "data": {
      "text/plain": [
       "<function __main__.plot_trucks_func(year, month, machine)>"
      ]
     },
     "execution_count": 6,
     "metadata": {},
     "output_type": "execute_result"
    }
   ],
   "source": [
    "year_options = df_merged['year'].unique()\n",
    "machine_options =df_mtbf['group'].astype(\"category\").cat.categories.tolist()\n",
    "\n",
    "def plot_trucks_func(year,month,machine):\n",
    "       \n",
    "    \n",
    "    df_merged['MTBF'] = df_merged['Sum of hours']/df_merged['counts']\n",
    "    df_year = df_merged[df_merged['year']==year]\n",
    "    df_year_month = df_year[df_year['month']==month]\n",
    "    df_trucks = df_year_month[df_year_month['group']==machine]\n",
    "    df_trucks = df_trucks.sort_values(by=['MTBF'])\n",
    "    \n",
    "    if month in df_year['month'].unique():\n",
    "        average_truck_mtbf = df_mtbf.loc[(df_mtbf['year']==year) & (df_mtbf['group']==machine)& (df_mtbf['month']==month)]\n",
    "        average_truck_mtbf = average_truck_mtbf.iloc[0]['MTBF']\n",
    "\n",
    "        plt.figure(figsize=(10, 8), dpi=80)\n",
    "        plt.barh(df_trucks['Equipment Id'],df_trucks['MTBF'])\n",
    "\n",
    "        plt.ylabel(machine)\n",
    "        plt.xlabel('MTBF(Hours)')\n",
    "        plt.xticks(list(plt.xticks()[0]) + [average_truck_mtbf])\n",
    "        plt.axvline(x=average_truck_mtbf , linestyle='--')\n",
    "        plt.title('MTBF of each ' +machine)\n",
    "        plt.show()\n",
    "        \n",
    "    else:\n",
    "        print('INVALID MONTH !!')\n",
    "        \n",
    "\n",
    "interact(plot_trucks_func, year = widgets.Dropdown(options=year_options,value=2021,description='Year:',disabled=False),\n",
    "        month=widgets.Dropdown(options=[1,2,3,4,5,6,7,8,9,10,11,12],value=6,description='Month:',disabled=False),\n",
    "        machine=widgets.Dropdown(options=machine_options,value='TRUCK',description='Machine type:',disabled=False))"
   ]
  },
  {
   "cell_type": "markdown",
   "metadata": {},
   "source": [
    "# Individual Excavator performance"
   ]
  },
  {
   "cell_type": "code",
   "execution_count": 7,
   "metadata": {},
   "outputs": [
    {
     "data": {
      "application/vnd.jupyter.widget-view+json": {
       "model_id": "18ae0e4139a24bff95557d645adc6399",
       "version_major": 2,
       "version_minor": 0
      },
      "text/plain": [
       "interactive(children=(Dropdown(description='Year:', index=1, options=(2020, 2021), value=2021), Dropdown(descr…"
      ]
     },
     "metadata": {},
     "output_type": "display_data"
    },
    {
     "data": {
      "text/plain": [
       "<function __main__.plot_trucks_func(year, month, machine)>"
      ]
     },
     "execution_count": 7,
     "metadata": {},
     "output_type": "execute_result"
    }
   ],
   "source": [
    "interact(plot_trucks_func, year = widgets.Dropdown(options=year_options,value=2021,description='Year:',disabled=False),\n",
    "        month=widgets.Dropdown(options=[1,2,3,4,5,6,7,8,9,10,11,12],value=6,description='Month:',disabled=False),\n",
    "        machine=widgets.Dropdown(options=machine_options,value='EXCAV',description='Machine type:',disabled=False))"
   ]
  },
  {
   "cell_type": "raw",
   "metadata": {},
   "source": [
    "jupyter nbconvert --to webpdf --allow-chromium-download Untitled.ipynb"
   ]
  },
  {
   "cell_type": "markdown",
   "metadata": {},
   "source": [
    "# Yearly machine MTBF "
   ]
  },
  {
   "cell_type": "code",
   "execution_count": 8,
   "metadata": {},
   "outputs": [
    {
     "data": {
      "application/vnd.jupyter.widget-view+json": {
       "model_id": "eaf85f52e3eb458d92b8ebdaaac2783f",
       "version_major": 2,
       "version_minor": 0
      },
      "text/plain": [
       "interactive(children=(Dropdown(description='Year:', index=1, options=('2020', '2021', 'All'), value='2021'), D…"
      ]
     },
     "metadata": {},
     "output_type": "display_data"
    },
    {
     "data": {
      "text/plain": [
       "<function __main__.plot_yearly_mtbf_func(year, machine)>"
      ]
     },
     "execution_count": 8,
     "metadata": {},
     "output_type": "execute_result"
    }
   ],
   "source": [
    "import numpy \n",
    "\n",
    "year_options = df_merged['year'].unique()\n",
    "year_options = list(numpy.append(year_options,'All'))\n",
    "machine_options =df_mtbf['group'].astype(\"category\").cat.categories.tolist()\n",
    "\n",
    "def plot_yearly_mtbf_func(year,machine):\n",
    "    \n",
    "    if year== 'All':\n",
    "    \n",
    "        df_merged_1 = df_merged.groupby(['group','Equipment Id']).sum().reset_index()\n",
    "        df_merged_1['MTBF_year'] = df_merged_1['Sum of hours']/df_merged_1['counts']\n",
    "\n",
    "        df_trucks = df_merged_1[df_merged_1['group']==machine]\n",
    "        df_trucks = df_trucks.sort_values(by=['MTBF_year'])\n",
    "\n",
    "        plt.figure(figsize=(10, 8), dpi=80)\n",
    "        plt.barh(df_trucks['Equipment Id'],df_trucks['MTBF_year'])\n",
    "\n",
    "        plt.ylabel(machine)\n",
    "        plt.xlabel('MTBF(Hours)')\n",
    "        plt.xticks(list(plt.xticks()[0]))\n",
    "        plt.title('MTBF of each ' +machine)\n",
    "        plt.show()\n",
    "  \n",
    "    \n",
    "    \n",
    "    \n",
    "    else:\n",
    "    \n",
    "        year = int(year)\n",
    "        df_merged_1 = df_merged.groupby(['year','group','Equipment Id']).sum().reset_index()\n",
    "        df_merged_1['MTBF_year'] = df_merged_1['Sum of hours']/df_merged_1['counts']\n",
    "\n",
    "        df_year = df_merged_1[df_merged_1['year']==year]\n",
    "        df_trucks = df_year[df_year['group']==machine]\n",
    "        df_trucks = df_trucks.sort_values(by=['MTBF_year'])\n",
    "\n",
    "        plt.figure(figsize=(10, 8), dpi=80)\n",
    "        plt.barh(df_trucks['Equipment Id'],df_trucks['MTBF_year'])\n",
    "\n",
    "        plt.ylabel(machine)\n",
    "        plt.xlabel('MTBF(Hours)')\n",
    "        plt.xticks(list(plt.xticks()[0]))\n",
    "        plt.title('MTBF of each ' +machine)\n",
    "        plt.show()\n",
    "\n",
    "        \n",
    "\n",
    "interact(plot_yearly_mtbf_func, year = widgets.Dropdown(options=year_options,value='2021',description='Year:',disabled=False),\n",
    "         machine=widgets.Dropdown(options=machine_options,value='TRUCK',description='Machine type:',disabled=False))"
   ]
  },
  {
   "cell_type": "code",
   "execution_count": 9,
   "metadata": {},
   "outputs": [
    {
     "data": {
      "text/html": [
       "<script>\n",
       "code_show=true; \n",
       "function code_toggle() {\n",
       " if (code_show){\n",
       " $('div.input').hide();\n",
       " } else {\n",
       " $('div.input').show();\n",
       " }\n",
       " code_show = !code_show\n",
       "} \n",
       "$( document ).ready(code_toggle);\n",
       "</script>\n",
       "<form action=\"javascript:code_toggle()\"><input type=\"submit\" value=\"Click here to toggle on/off the raw code.\"></form>"
      ],
      "text/plain": [
       "<IPython.core.display.HTML object>"
      ]
     },
     "execution_count": 9,
     "metadata": {},
     "output_type": "execute_result"
    }
   ],
   "source": [
    "from IPython.display import HTML\n",
    "\n",
    "HTML('''<script>\n",
    "code_show=true; \n",
    "function code_toggle() {\n",
    " if (code_show){\n",
    " $('div.input').hide();\n",
    " } else {\n",
    " $('div.input').show();\n",
    " }\n",
    " code_show = !code_show\n",
    "} \n",
    "$( document ).ready(code_toggle);\n",
    "</script>\n",
    "<form action=\"javascript:code_toggle()\"><input type=\"submit\" value=\"Click here to toggle on/off the raw code.\"></form>''')"
   ]
  },
  {
   "cell_type": "code",
   "execution_count": null,
   "metadata": {},
   "outputs": [],
   "source": []
  }
 ],
 "metadata": {
  "kernelspec": {
   "display_name": "Python 3",
   "language": "python",
   "name": "python3"
  },
  "language_info": {
   "codemirror_mode": {
    "name": "ipython",
    "version": 3
   },
   "file_extension": ".py",
   "mimetype": "text/x-python",
   "name": "python",
   "nbconvert_exporter": "python",
   "pygments_lexer": "ipython3",
   "version": "3.7.10"
  }
 },
 "nbformat": 4,
 "nbformat_minor": 2
}
